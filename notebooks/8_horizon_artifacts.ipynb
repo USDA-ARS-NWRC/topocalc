{
 "cells": [
  {
   "cell_type": "markdown",
   "id": "eligible-worry",
   "metadata": {},
   "source": [
    "# Issue 8\n",
    "\n",
    "Issue 8 shows some artifacts in the horizon calculation. This seems to step from the `hor1d` function not looking at the adjacent pixel or not searching the full length of the vector."
   ]
  },
  {
   "cell_type": "code",
   "execution_count": null,
   "id": "geological-pattern",
   "metadata": {},
   "outputs": [],
   "source": [
    "import numpy as np\n",
    "import rasterio as rio\n",
    "import pandas as pd\n",
    "import matplotlib.pyplot as plt\n",
    "\n",
    "from topocalc.horizon import horizon"
   ]
  },
  {
   "cell_type": "code",
   "execution_count": null,
   "id": "african-profile",
   "metadata": {},
   "outputs": [],
   "source": [
    "ras = rio.open('data/test_proj_windowed_int.tif')\n",
    "ar = ras.read(1)\n",
    "ar = ar.astype(np.float)\n",
    "\n",
    "# plt.figure(figsize=(15,15))\n",
    "# plt.imshow(ar)\n",
    "# plt.colorbar()"
   ]
  },
  {
   "cell_type": "code",
   "execution_count": null,
   "id": "foreign-nashville",
   "metadata": {},
   "outputs": [],
   "source": [
    "horizon_test_azimuth_0 = np.rad2deg(np.arccos(horizon(0, ar, 30)))\n",
    "\n",
    "plt.figure(figsize=(15,15))\n",
    "plt.imshow(horizon_test_azimuth_0)\n",
    "plt.colorbar()"
   ]
  },
  {
   "cell_type": "code",
   "execution_count": null,
   "id": "unlike-guyana",
   "metadata": {},
   "outputs": [],
   "source": [
    "# Pull out into 2D, look at this particular column that has a 90 degree horizon\n",
    "idx = 519\n",
    "surf = ar[:, idx]\n",
    "hor = horizon(0, ar, 30)[:, idx]\n",
    "\n",
    "df = pd.DataFrame([surf, hor], index=['surface', 'horizon']).transpose()\n",
    "\n",
    "fig,ax = plt.subplots(figsize=(20,10))\n",
    "df.surface.plot(ax=ax)\n",
    "df.horizon.plot(ax=ax, secondary_y=True)\n",
    "ax.legend([ax.get_lines()[0], ax.right_ax.get_lines()[0]], df.columns)"
   ]
  }
 ],
 "metadata": {
  "kernelspec": {
   "display_name": "Python 3",
   "language": "python",
   "name": "python3"
  },
  "language_info": {
   "codemirror_mode": {
    "name": "ipython",
    "version": 3
   },
   "file_extension": ".py",
   "mimetype": "text/x-python",
   "name": "python",
   "nbconvert_exporter": "python",
   "pygments_lexer": "ipython3",
   "version": "3.6.9"
  }
 },
 "nbformat": 4,
 "nbformat_minor": 5
}
