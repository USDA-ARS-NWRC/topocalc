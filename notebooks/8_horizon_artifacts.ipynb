{
 "cells": [
  {
   "cell_type": "markdown",
   "id": "satellite-telephone",
   "metadata": {},
   "source": [
    "# Issue 8\n",
    "\n",
    "Issue 8 shows some artifacts in the horizon calculation. This seems to step from the `hor1d` function not looking at the adjacent pixel or not searching the full length of the vector."
   ]
  },
  {
   "cell_type": "code",
   "execution_count": null,
   "id": "active-buffalo",
   "metadata": {},
   "outputs": [],
   "source": [
    "import numpy as np\n",
    "import rasterio as rio\n",
    "import pandas as pd\n",
    "import matplotlib.pyplot as plt\n",
    "\n",
    "from topocalc.horizon import horizon"
   ]
  },
  {
   "cell_type": "code",
   "execution_count": null,
   "id": "engaged-bankruptcy",
   "metadata": {},
   "outputs": [],
   "source": [
    "ras = rio.open('data/test_proj_windowed_int.tif')\n",
    "ar = ras.read(1)\n",
    "ar = ar.astype(np.float)\n",
    "\n",
    "plt.figure(figsize=(15,15))\n",
    "plt.imshow(ar)\n",
    "plt.colorbar()"
   ]
  },
  {
   "cell_type": "code",
   "execution_count": null,
   "id": "rural-medication",
   "metadata": {},
   "outputs": [],
   "source": [
    "horizon_test_azimuth_0 = np.rad2deg(np.arccos(horizon(0, ar, 30)))\n",
    "\n",
    "plt.figure(figsize=(15,15))\n",
    "plt.imshow(horizon_test_azimuth_0)\n",
    "plt.colorbar()"
   ]
  },
  {
   "cell_type": "code",
   "execution_count": null,
   "id": "available-rugby",
   "metadata": {},
   "outputs": [],
   "source": [
    "# Pull out into 2D, look at this particular column that has a 90 degree horizon\n",
    "idx = 519\n",
    "surf = ar[:, idx]\n",
    "hor = horizon(0, ar, 30)[:, idx]\n",
    "\n",
    "df = pd.DataFrame([surf, hor], index=['surface', 'horizon']).transpose()\n",
    "\n",
    "fig,ax = plt.subplots(figsize=(20,10))\n",
    "df.surface.plot(ax=ax)\n",
    "df.horizon.plot(ax=ax, secondary_y=True)\n",
    "ax.legend([ax.get_lines()[0], ax.right_ax.get_lines()[0]], df.columns)"
   ]
  },
  {
   "cell_type": "code",
   "execution_count": null,
   "id": "particular-mason",
   "metadata": {},
   "outputs": [],
   "source": [
    "# surface\n",
    "N = len(df.surface)\n",
    "dx = 30\n",
    "m = np.repeat(df.surface.values.reshape(1,-1), N, axis=0)\n",
    "\n",
    "# distance to each point\n",
    "# k=-1 because the distance to the point itself is 0\n",
    "distance = dx * np.cumsum(np.tri(N, N, k=-1), axis=0)\n",
    "\n",
    "# height change\n",
    "height = np.tril(m.T - m)\n",
    "\n",
    "# slope\n",
    "slope = height / distance\n",
    "\n",
    "# horizon location\n",
    "hor = np.nanargmax(slope[:, :-1], axis=0)\n",
    "hor = np.append(hor, N-1)\n",
    "df['horizon_index'] = hor\n",
    "\n",
    "fig, ax = plt.subplots(2, 2, figsize=(10,10))\n",
    "ax = ax.flatten()\n",
    "ax[0].imshow(m)\n",
    "ax[0].set_title('surface height')\n",
    "\n",
    "ax[1].imshow(distance)\n",
    "ax[1].set_title('distance from point to all other points')\n",
    "\n",
    "ax[2].imshow(height)\n",
    "ax[2].set_title('height difference')\n",
    "\n",
    "ax[3].imshow(slope)\n",
    "ax[3].set_title('slope to all points')"
   ]
  },
  {
   "cell_type": "code",
   "execution_count": null,
   "id": "continent-lover",
   "metadata": {},
   "outputs": [],
   "source": [
    "# turn the horizon locations into cosine\n",
    "\n",
    "df['horizon_height'] = surf[hor]\n",
    "df['distance'] = dx * (hor - np.arange(0, N))\n",
    "\n",
    "df['new_horizon'] =  df.horizon_height / np.sqrt(df.horizon_height**2 + df.distance**2)\n",
    "\n",
    "fig,ax = plt.subplots(2, 1, figsize=(20,10))\n",
    "ax = ax.flatten()\n",
    "df[['surface', 'horizon_height']].plot(ax=ax[0])\n",
    "\n",
    "np.rad2deg(np.arccos(df[['horizon', 'new_horizon']])).plot(ax=ax[1])\n"
   ]
  },
  {
   "cell_type": "code",
   "execution_count": null,
   "id": "dress-continent",
   "metadata": {},
   "outputs": [],
   "source": []
  }
 ],
 "metadata": {
  "kernelspec": {
   "display_name": "Python 3",
   "language": "python",
   "name": "python3"
  },
  "language_info": {
   "codemirror_mode": {
    "name": "ipython",
    "version": 3
   },
   "file_extension": ".py",
   "mimetype": "text/x-python",
   "name": "python",
   "nbconvert_exporter": "python",
   "pygments_lexer": "ipython3",
   "version": "3.6.9"
  }
 },
 "nbformat": 4,
 "nbformat_minor": 5
}
