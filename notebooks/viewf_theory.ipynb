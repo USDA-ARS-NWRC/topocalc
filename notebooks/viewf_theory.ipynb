{
 "cells": [
  {
   "cell_type": "markdown",
   "metadata": {},
   "source": [
    "# Viewf with fake dem\n",
    "Compare the output from the `viewf` function with that output from IPW's `viewf` function"
   ]
  },
  {
   "cell_type": "code",
   "execution_count": null,
   "metadata": {},
   "outputs": [],
   "source": [
    "import numpy as np\n",
    "from spatialnc import ipw\n",
    "import matplotlib.pyplot as plt\n",
    "import subprocess\n",
    "\n",
    "from topocalc.viewf import viewf\n",
    "\n",
    "# %matplotlib widget"
   ]
  },
  {
   "cell_type": "markdown",
   "metadata": {},
   "source": [
    "## Infinite edge\n",
    "The DEM will approximate an infinite edge and compare with IPW version"
   ]
  },
  {
   "cell_type": "code",
   "execution_count": null,
   "metadata": {},
   "outputs": [],
   "source": [
    "dem = np.ones((50, 50))\n",
    "dem[:, :25] = 100000\n",
    "spacing = 10\n",
    "\n",
    "svf, tvf = viewf(dem, spacing=spacing, nangles=32)\n",
    "\n",
    "plt.imshow(dem)\n",
    "plt.colorbar()"
   ]
  },
  {
   "cell_type": "code",
   "execution_count": null,
   "metadata": {},
   "outputs": [],
   "source": [
    "# Create the IPW image and run IPW viewf then plot\n",
    "csys = 'UTM'\n",
    "nbits = 16\n",
    "\n",
    "i = ipw.IPW()\n",
    "i.new_band(dem)\n",
    "i.add_geo_hdr(\n",
    "    coordinates=[0, 0],\n",
    "    d=[-spacing, spacing],\n",
    "    units='meters',\n",
    "    csys=csys\n",
    ")\n",
    "\n",
    "i.write(\n",
    "    'gold_dem_theory.ipw',\n",
    "    nbits=nbits\n",
    ")\n",
    "\n",
    "p = subprocess.Popen(\n",
    "    '$IPW/bin/viewf -x gold_dem_theory.ipw > gold_viewf_theory.ipw',shell=True,\n",
    "    stdout=subprocess.PIPE,\n",
    "    stderr=subprocess.STDOUT,\n",
    "    universal_newlines=True).wait()\n",
    "\n",
    "v = ipw.IPW('gold_viewf_theory.ipw')\n",
    "\n",
    "fig, ax = plt.subplots(2, 2, figsize = (15, 15))\n",
    "fig.subplots_adjust(left=0.02, bottom=0.06, right=0.95, top=0.94, wspace=0.05)\n",
    "fig.suptitle('Sky View Factor')\n",
    "\n",
    "# IPW original\n",
    "im0 = ax[0,0].imshow(svf, vmin=0, vmax=1)\n",
    "ax[0,0].set_title('Python output')\n",
    "fig.colorbar(im0, ax=ax[0,0])\n",
    "\n",
    "# horizon output\n",
    "im1 = ax[0,1].imshow(v.bands[0].data, vmin=0, vmax=1)\n",
    "ax[0,1].set_title('IPW output')\n",
    "fig.colorbar(im1, ax=ax[0,1])\n",
    "\n",
    "# horizon output\n",
    "d = svf - v.bands[0].data\n",
    "im1 = ax[1,0].imshow(d, cmap='RdBu', vmin=-0.5, vmax=0.5)\n",
    "ax[1,0].set_title('Difference')\n",
    "fig.colorbar(im1, ax=ax[1,0])\n",
    "\n",
    "# ax[1, 1].hist(d, bins=30)\n",
    "# ax[1, 1].set_title('Histogram')\n",
    "\n",
    "plt.show()\n"
   ]
  },
  {
   "cell_type": "markdown",
   "metadata": {},
   "source": [
    "## Canyon\n",
    "The DEM will approximate a deep canyon and compare with IPW version"
   ]
  },
  {
   "cell_type": "code",
   "execution_count": null,
   "metadata": {},
   "outputs": [],
   "source": [
    "dem = np.ones((50, 50))\n",
    "dem[:, :20] = 100000\n",
    "dem[:, 30:] = 100000\n",
    "spacing = 10\n",
    "\n",
    "svf, tvf = viewf(dem, spacing=spacing, nangles=32)\n",
    "\n",
    "plt.imshow(dem)\n",
    "plt.colorbar()"
   ]
  },
  {
   "cell_type": "code",
   "execution_count": null,
   "metadata": {},
   "outputs": [],
   "source": [
    "# Create the IPW image and run IPW viewf then plot\n",
    "csys = 'UTM'\n",
    "nbits = 16\n",
    "\n",
    "i = ipw.IPW()\n",
    "i.new_band(dem)\n",
    "i.add_geo_hdr(\n",
    "    coordinates=[0, 0],\n",
    "    d=[-spacing, spacing],\n",
    "    units='meters',\n",
    "    csys=csys\n",
    ")\n",
    "\n",
    "i.write(\n",
    "    'gold_dem_theory.ipw',\n",
    "    nbits=nbits\n",
    ")\n",
    "\n",
    "p = subprocess.Popen(\n",
    "    '$IPW/bin/viewf -x gold_dem_theory.ipw > gold_viewf_theory.ipw',shell=True,\n",
    "    stdout=subprocess.PIPE,\n",
    "    stderr=subprocess.STDOUT,\n",
    "    universal_newlines=True).wait()\n",
    "\n",
    "v = ipw.IPW('gold_viewf_theory.ipw')\n",
    "\n",
    "fig, ax = plt.subplots(2, 2, figsize = (15, 15))\n",
    "fig.subplots_adjust(left=0.02, bottom=0.06, right=0.95, top=0.94, wspace=0.05)\n",
    "fig.suptitle('Sky View Factor')\n",
    "\n",
    "# IPW original\n",
    "im0 = ax[0,0].imshow(svf, vmin=0, vmax=1)\n",
    "ax[0,0].set_title('Python output')\n",
    "fig.colorbar(im0, ax=ax[0,0])\n",
    "\n",
    "# horizon output\n",
    "im1 = ax[0,1].imshow(v.bands[0].data, vmin=0, vmax=1)\n",
    "ax[0,1].set_title('IPW output')\n",
    "fig.colorbar(im1, ax=ax[0,1])\n",
    "\n",
    "# horizon output\n",
    "d = svf - v.bands[0].data\n",
    "im1 = ax[1,0].imshow(d, cmap='RdBu', vmin=-0.5, vmax=0.5)\n",
    "ax[1,0].set_title('Difference')\n",
    "fig.colorbar(im1, ax=ax[1,0])\n",
    "\n",
    "ax[1, 1].hist(d, bins=30)\n",
    "ax[1, 1].set_title('Histogram')\n",
    "\n",
    "plt.show()\n"
   ]
  },
  {
   "cell_type": "code",
   "execution_count": null,
   "metadata": {},
   "outputs": [],
   "source": []
  }
 ],
 "metadata": {
  "kernelspec": {
   "display_name": "Python 3",
   "language": "python",
   "name": "python3"
  },
  "language_info": {
   "codemirror_mode": {
    "name": "ipython",
    "version": 3
   },
   "file_extension": ".py",
   "mimetype": "text/x-python",
   "name": "python",
   "nbconvert_exporter": "python",
   "pygments_lexer": "ipython3",
   "version": "3.6.9"
  }
 },
 "nbformat": 4,
 "nbformat_minor": 4
}
